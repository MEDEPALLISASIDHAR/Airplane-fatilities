{
 "cells": [
  {
   "cell_type": "code",
   "execution_count": 40,
   "id": "a288f886",
   "metadata": {},
   "outputs": [],
   "source": [
    "import numpy as np\n",
    "import pandas as pd\n",
    "import matplotlib.pyplot as plt\n",
    "import seaborn as sns\n",
    "import matplotlib.dates as dates\n",
    "sns.set(rc={'figure.figsize':(11, 4)})"
   ]
  },
  {
   "cell_type": "code",
   "execution_count": 25,
   "id": "1f2cd1cd",
   "metadata": {},
   "outputs": [],
   "source": [
    "crashesDataframe = pd.read_csv('file:///C:/Users/user/Downloads/archive%20(8)/Airplane_Crashes_and_Fatalities_Since_1908.csv')\n"
   ]
  },
  {
   "cell_type": "code",
   "execution_count": 26,
   "id": "9795dcc4",
   "metadata": {},
   "outputs": [],
   "source": [
    "# convert Date into Datetime Feature\n",
    "crashesDataframe.Date = pd.to_datetime(crashesDataframe.Date)"
   ]
  },
  {
   "cell_type": "code",
   "execution_count": 27,
   "id": "0ac7cc5d",
   "metadata": {},
   "outputs": [
    {
     "data": {
      "text/html": [
       "<div>\n",
       "<style scoped>\n",
       "    .dataframe tbody tr th:only-of-type {\n",
       "        vertical-align: middle;\n",
       "    }\n",
       "\n",
       "    .dataframe tbody tr th {\n",
       "        vertical-align: top;\n",
       "    }\n",
       "\n",
       "    .dataframe thead th {\n",
       "        text-align: right;\n",
       "    }\n",
       "</style>\n",
       "<table border=\"1\" class=\"dataframe\">\n",
       "  <thead>\n",
       "    <tr style=\"text-align: right;\">\n",
       "      <th></th>\n",
       "      <th>index</th>\n",
       "      <th>Date</th>\n",
       "      <th>Time</th>\n",
       "      <th>Location</th>\n",
       "      <th>Operator</th>\n",
       "      <th>Flight #</th>\n",
       "      <th>Route</th>\n",
       "      <th>Type</th>\n",
       "      <th>Registration</th>\n",
       "      <th>cn/In</th>\n",
       "      <th>Aboard</th>\n",
       "      <th>Fatalities</th>\n",
       "      <th>Ground</th>\n",
       "      <th>Summary</th>\n",
       "    </tr>\n",
       "  </thead>\n",
       "  <tbody>\n",
       "    <tr>\n",
       "      <th>0</th>\n",
       "      <td>0</td>\n",
       "      <td>1908-09-17</td>\n",
       "      <td>17:18</td>\n",
       "      <td>Fort Myer, Virginia</td>\n",
       "      <td>Military - U.S. Army</td>\n",
       "      <td>NaN</td>\n",
       "      <td>Demonstration</td>\n",
       "      <td>Wright Flyer III</td>\n",
       "      <td>NaN</td>\n",
       "      <td>1</td>\n",
       "      <td>2.0</td>\n",
       "      <td>1.0</td>\n",
       "      <td>0.0</td>\n",
       "      <td>During a demonstration flight, a U.S. Army fly...</td>\n",
       "    </tr>\n",
       "    <tr>\n",
       "      <th>1</th>\n",
       "      <td>1</td>\n",
       "      <td>1912-07-12</td>\n",
       "      <td>06:30</td>\n",
       "      <td>AtlantiCity, New Jersey</td>\n",
       "      <td>Military - U.S. Navy</td>\n",
       "      <td>NaN</td>\n",
       "      <td>Test flight</td>\n",
       "      <td>Dirigible</td>\n",
       "      <td>NaN</td>\n",
       "      <td>NaN</td>\n",
       "      <td>5.0</td>\n",
       "      <td>5.0</td>\n",
       "      <td>0.0</td>\n",
       "      <td>First U.S. dirigible Akron exploded just offsh...</td>\n",
       "    </tr>\n",
       "    <tr>\n",
       "      <th>2</th>\n",
       "      <td>2</td>\n",
       "      <td>1913-08-06</td>\n",
       "      <td>NaN</td>\n",
       "      <td>Victoria, British Columbia, Canada</td>\n",
       "      <td>Private</td>\n",
       "      <td>-</td>\n",
       "      <td>NaN</td>\n",
       "      <td>Curtiss seaplane</td>\n",
       "      <td>NaN</td>\n",
       "      <td>NaN</td>\n",
       "      <td>1.0</td>\n",
       "      <td>1.0</td>\n",
       "      <td>0.0</td>\n",
       "      <td>The first fatal airplane accident in Canada oc...</td>\n",
       "    </tr>\n",
       "    <tr>\n",
       "      <th>3</th>\n",
       "      <td>3</td>\n",
       "      <td>1913-09-09</td>\n",
       "      <td>18:30</td>\n",
       "      <td>Over the North Sea</td>\n",
       "      <td>Military - German Navy</td>\n",
       "      <td>NaN</td>\n",
       "      <td>NaN</td>\n",
       "      <td>Zeppelin L-1 (airship)</td>\n",
       "      <td>NaN</td>\n",
       "      <td>NaN</td>\n",
       "      <td>20.0</td>\n",
       "      <td>14.0</td>\n",
       "      <td>0.0</td>\n",
       "      <td>The airship flew into a thunderstorm and encou...</td>\n",
       "    </tr>\n",
       "    <tr>\n",
       "      <th>4</th>\n",
       "      <td>4</td>\n",
       "      <td>1913-10-17</td>\n",
       "      <td>10:30</td>\n",
       "      <td>Near Johannisthal, Germany</td>\n",
       "      <td>Military - German Navy</td>\n",
       "      <td>NaN</td>\n",
       "      <td>NaN</td>\n",
       "      <td>Zeppelin L-2 (airship)</td>\n",
       "      <td>NaN</td>\n",
       "      <td>NaN</td>\n",
       "      <td>30.0</td>\n",
       "      <td>30.0</td>\n",
       "      <td>0.0</td>\n",
       "      <td>Hydrogen gas which was being vented was sucked...</td>\n",
       "    </tr>\n",
       "    <tr>\n",
       "      <th>...</th>\n",
       "      <td>...</td>\n",
       "      <td>...</td>\n",
       "      <td>...</td>\n",
       "      <td>...</td>\n",
       "      <td>...</td>\n",
       "      <td>...</td>\n",
       "      <td>...</td>\n",
       "      <td>...</td>\n",
       "      <td>...</td>\n",
       "      <td>...</td>\n",
       "      <td>...</td>\n",
       "      <td>...</td>\n",
       "      <td>...</td>\n",
       "      <td>...</td>\n",
       "    </tr>\n",
       "    <tr>\n",
       "      <th>5263</th>\n",
       "      <td>5263</td>\n",
       "      <td>2009-05-20</td>\n",
       "      <td>06:30</td>\n",
       "      <td>Near Madiun, Indonesia</td>\n",
       "      <td>Military - Indonesian Air Force</td>\n",
       "      <td>NaN</td>\n",
       "      <td>Jakarta - Maduin</td>\n",
       "      <td>Lockheed C-130 Hercules</td>\n",
       "      <td>A-1325</td>\n",
       "      <td>1982</td>\n",
       "      <td>112.0</td>\n",
       "      <td>98.0</td>\n",
       "      <td>2.0</td>\n",
       "      <td>While on approach, the military transport cras...</td>\n",
       "    </tr>\n",
       "    <tr>\n",
       "      <th>5264</th>\n",
       "      <td>5264</td>\n",
       "      <td>2009-05-26</td>\n",
       "      <td>NaN</td>\n",
       "      <td>Near Isiro, DemocratiRepubliCongo</td>\n",
       "      <td>Service Air</td>\n",
       "      <td>NaN</td>\n",
       "      <td>Goma - Isiro</td>\n",
       "      <td>Antonov An-26</td>\n",
       "      <td>9Q-CSA</td>\n",
       "      <td>5005</td>\n",
       "      <td>4.0</td>\n",
       "      <td>4.0</td>\n",
       "      <td>NaN</td>\n",
       "      <td>The cargo plane crashed while on approach to I...</td>\n",
       "    </tr>\n",
       "    <tr>\n",
       "      <th>5265</th>\n",
       "      <td>5265</td>\n",
       "      <td>2009-06-01</td>\n",
       "      <td>00:15</td>\n",
       "      <td>AtlantiOcean, 570 miles northeast of Natal, Br...</td>\n",
       "      <td>Air France</td>\n",
       "      <td>447</td>\n",
       "      <td>Rio de Janeiro - Paris</td>\n",
       "      <td>Airbus A330-203</td>\n",
       "      <td>F-GZCP</td>\n",
       "      <td>660</td>\n",
       "      <td>228.0</td>\n",
       "      <td>228.0</td>\n",
       "      <td>0.0</td>\n",
       "      <td>The Airbus went missing over the AtlantiOcean ...</td>\n",
       "    </tr>\n",
       "    <tr>\n",
       "      <th>5266</th>\n",
       "      <td>5266</td>\n",
       "      <td>2009-06-07</td>\n",
       "      <td>08:30</td>\n",
       "      <td>Near Port Hope Simpson, Newfoundland, Canada</td>\n",
       "      <td>Strait Air</td>\n",
       "      <td>NaN</td>\n",
       "      <td>Lourdes de BlanSablon - Port Hope Simpson</td>\n",
       "      <td>Britten-Norman BN-2A-27 Islander</td>\n",
       "      <td>C-FJJR</td>\n",
       "      <td>424</td>\n",
       "      <td>1.0</td>\n",
       "      <td>1.0</td>\n",
       "      <td>0.0</td>\n",
       "      <td>The air ambulance crashed into hills while att...</td>\n",
       "    </tr>\n",
       "    <tr>\n",
       "      <th>5267</th>\n",
       "      <td>5267</td>\n",
       "      <td>2009-06-08</td>\n",
       "      <td>NaN</td>\n",
       "      <td>State of Arunachal Pradesh, India</td>\n",
       "      <td>Military - Indian Air Force</td>\n",
       "      <td>NaN</td>\n",
       "      <td>Mechuka for Jorhat</td>\n",
       "      <td>Antonov An-32</td>\n",
       "      <td>NaN</td>\n",
       "      <td>NaN</td>\n",
       "      <td>13.0</td>\n",
       "      <td>13.0</td>\n",
       "      <td>0.0</td>\n",
       "      <td>The military transport went missing while en r...</td>\n",
       "    </tr>\n",
       "  </tbody>\n",
       "</table>\n",
       "<p>5268 rows × 14 columns</p>\n",
       "</div>"
      ],
      "text/plain": [
       "      index       Date   Time  \\\n",
       "0         0 1908-09-17  17:18   \n",
       "1         1 1912-07-12  06:30   \n",
       "2         2 1913-08-06    NaN   \n",
       "3         3 1913-09-09  18:30   \n",
       "4         4 1913-10-17  10:30   \n",
       "...     ...        ...    ...   \n",
       "5263   5263 2009-05-20  06:30   \n",
       "5264   5264 2009-05-26    NaN   \n",
       "5265   5265 2009-06-01  00:15   \n",
       "5266   5266 2009-06-07  08:30   \n",
       "5267   5267 2009-06-08    NaN   \n",
       "\n",
       "                                               Location  \\\n",
       "0                                   Fort Myer, Virginia   \n",
       "1                               AtlantiCity, New Jersey   \n",
       "2                    Victoria, British Columbia, Canada   \n",
       "3                                    Over the North Sea   \n",
       "4                            Near Johannisthal, Germany   \n",
       "...                                                 ...   \n",
       "5263                             Near Madiun, Indonesia   \n",
       "5264                  Near Isiro, DemocratiRepubliCongo   \n",
       "5265  AtlantiOcean, 570 miles northeast of Natal, Br...   \n",
       "5266       Near Port Hope Simpson, Newfoundland, Canada   \n",
       "5267                  State of Arunachal Pradesh, India   \n",
       "\n",
       "                             Operator Flight #  \\\n",
       "0                Military - U.S. Army      NaN   \n",
       "1                Military - U.S. Navy      NaN   \n",
       "2                             Private        -   \n",
       "3              Military - German Navy      NaN   \n",
       "4              Military - German Navy      NaN   \n",
       "...                               ...      ...   \n",
       "5263  Military - Indonesian Air Force      NaN   \n",
       "5264                      Service Air      NaN   \n",
       "5265                       Air France      447   \n",
       "5266                       Strait Air      NaN   \n",
       "5267      Military - Indian Air Force      NaN   \n",
       "\n",
       "                                          Route  \\\n",
       "0                                 Demonstration   \n",
       "1                                   Test flight   \n",
       "2                                           NaN   \n",
       "3                                           NaN   \n",
       "4                                           NaN   \n",
       "...                                         ...   \n",
       "5263                           Jakarta - Maduin   \n",
       "5264                               Goma - Isiro   \n",
       "5265                     Rio de Janeiro - Paris   \n",
       "5266  Lourdes de BlanSablon - Port Hope Simpson   \n",
       "5267                         Mechuka for Jorhat   \n",
       "\n",
       "                                  Type Registration cn/In  Aboard  Fatalities  \\\n",
       "0                     Wright Flyer III          NaN     1     2.0         1.0   \n",
       "1                            Dirigible          NaN   NaN     5.0         5.0   \n",
       "2                     Curtiss seaplane          NaN   NaN     1.0         1.0   \n",
       "3               Zeppelin L-1 (airship)          NaN   NaN    20.0        14.0   \n",
       "4               Zeppelin L-2 (airship)          NaN   NaN    30.0        30.0   \n",
       "...                                ...          ...   ...     ...         ...   \n",
       "5263           Lockheed C-130 Hercules       A-1325  1982   112.0        98.0   \n",
       "5264                     Antonov An-26       9Q-CSA  5005     4.0         4.0   \n",
       "5265                   Airbus A330-203       F-GZCP   660   228.0       228.0   \n",
       "5266  Britten-Norman BN-2A-27 Islander      C-FJJR    424     1.0         1.0   \n",
       "5267                     Antonov An-32          NaN   NaN    13.0        13.0   \n",
       "\n",
       "      Ground                                            Summary  \n",
       "0        0.0  During a demonstration flight, a U.S. Army fly...  \n",
       "1        0.0  First U.S. dirigible Akron exploded just offsh...  \n",
       "2        0.0  The first fatal airplane accident in Canada oc...  \n",
       "3        0.0  The airship flew into a thunderstorm and encou...  \n",
       "4        0.0  Hydrogen gas which was being vented was sucked...  \n",
       "...      ...                                                ...  \n",
       "5263     2.0  While on approach, the military transport cras...  \n",
       "5264     NaN  The cargo plane crashed while on approach to I...  \n",
       "5265     0.0  The Airbus went missing over the AtlantiOcean ...  \n",
       "5266     0.0  The air ambulance crashed into hills while att...  \n",
       "5267     0.0  The military transport went missing while en r...  \n",
       "\n",
       "[5268 rows x 14 columns]"
      ]
     },
     "execution_count": 27,
     "metadata": {},
     "output_type": "execute_result"
    }
   ],
   "source": [
    "crashesDataframe"
   ]
  },
  {
   "cell_type": "code",
   "execution_count": 34,
   "id": "4fbbd0c6",
   "metadata": {},
   "outputs": [
    {
     "data": {
      "text/plain": [
       "Aboard        22\n",
       "Ground        22\n",
       "Fatalities    12\n",
       "dtype: int64"
      ]
     },
     "execution_count": 34,
     "metadata": {},
     "output_type": "execute_result"
    }
   ],
   "source": [
    "ImputedValuesCrashesDataframe = crashesDataframe.copy()\n",
    "numericData = ImputedValuesCrashesDataframe.select_dtypes(include=np.number).columns.tolist()\n",
    "missingCounts = crashesDataframe[numericData].isna().sum().sort_values(ascending=False)\n",
    "missingCounts[missingCounts > 0]"
   ]
  },
  {
   "cell_type": "code",
   "execution_count": 28,
   "id": "f0568aa9",
   "metadata": {},
   "outputs": [
    {
     "name": "stdout",
     "output_type": "stream",
     "text": [
      "<class 'pandas.core.frame.DataFrame'>\n",
      "RangeIndex: 5268 entries, 0 to 5267\n",
      "Data columns (total 14 columns):\n",
      " #   Column        Non-Null Count  Dtype         \n",
      "---  ------        --------------  -----         \n",
      " 0   index         5268 non-null   int64         \n",
      " 1   Date          5268 non-null   datetime64[ns]\n",
      " 2   Time          3049 non-null   object        \n",
      " 3   Location      5248 non-null   object        \n",
      " 4   Operator      5250 non-null   object        \n",
      " 5   Flight #      1069 non-null   object        \n",
      " 6   Route         3562 non-null   object        \n",
      " 7   Type          5241 non-null   object        \n",
      " 8   Registration  4933 non-null   object        \n",
      " 9   cn/In         4040 non-null   object        \n",
      " 10  Aboard        5246 non-null   float64       \n",
      " 11  Fatalities    5256 non-null   float64       \n",
      " 12  Ground        5246 non-null   float64       \n",
      " 13  Summary       4878 non-null   object        \n",
      "dtypes: datetime64[ns](1), float64(3), int64(1), object(9)\n",
      "memory usage: 576.3+ KB\n"
     ]
    }
   ],
   "source": [
    "# we got null values to handle in the next sections!\n",
    "crashesDataframe.info()"
   ]
  },
  {
   "cell_type": "code",
   "execution_count": 29,
   "id": "e4d3fe65",
   "metadata": {},
   "outputs": [
    {
     "data": {
      "text/plain": [
       "index              0\n",
       "Date               0\n",
       "Time            2219\n",
       "Location          20\n",
       "Operator          18\n",
       "Flight #        4199\n",
       "Route           1706\n",
       "Type              27\n",
       "Registration     335\n",
       "cn/In           1228\n",
       "Aboard            22\n",
       "Fatalities        12\n",
       "Ground            22\n",
       "Summary          390\n",
       "dtype: int64"
      ]
     },
     "execution_count": 29,
     "metadata": {},
     "output_type": "execute_result"
    }
   ],
   "source": [
    "# To check null values\n",
    "crashesDataframe.isnull().sum()"
   ]
  },
  {
   "cell_type": "code",
   "execution_count": 42,
   "id": "c5bf5c23",
   "metadata": {},
   "outputs": [
    {
     "data": {
      "text/plain": [
       "190     c: 1:00\n",
       "213     c:17:00\n",
       "228     c: 2:00\n",
       "279     c:09:00\n",
       "1462     c16:50\n",
       "2599    c:09:00\n",
       "3390     c14:30\n",
       "4838    c: 9:40\n",
       "Name: Time, dtype: object"
      ]
     },
     "execution_count": 42,
     "metadata": {},
     "output_type": "execute_result"
    }
   ],
   "source": [
    " # some of the time values starts with a c: or c string. lets remove it to conver time to timestamps\n",
    "crashesDataframe.loc[crashesDataframe['Time'].str.startswith('c') == True].Time"
   ]
  },
  {
   "cell_type": "code",
   "execution_count": 53,
   "id": "b85f5cd1",
   "metadata": {},
   "outputs": [],
   "source": [
    "# since there are only this 4 unique examples, done manually\n",
    "crashesDataframe.loc[crashesDataframe['Time'].str.startswith('c:') == True,'Time'] = crashesDataframe.loc[crashesDataframe['Time'].str.startswith('c:') == True,'Time'].str.split(\"c:\").str[1]\n",
    "crashesDataframe.loc[crashesDataframe['Time'].str.startswith('c') == True,'Time'] = crashesDataframe.loc[crashesDataframe['Time'].str.startswith('c') == True,'Time'].str.split(\"c:\").str[1]\n",
    "crashesDataframe.loc[crashesDataframe['Time'] == \"12'20\",'Time'] = \"12:20\"\n",
    "crashesDataframe.loc[crashesDataframe['Time'] == \"18.40\",'Time'] = \"18:40\"\n",
    "crashesDataframe.loc[crashesDataframe['Time'] == \"114:20\",'Time'] = \"14:20\"\n",
    "crashesDataframe.loc[crashesDataframe['Time'] == \"22'08\",'Time'] = \"22:08\""
   ]
  },
  {
   "cell_type": "code",
   "execution_count": null,
   "id": "f050076b",
   "metadata": {},
   "outputs": [],
   "source": []
  },
  {
   "cell_type": "code",
   "execution_count": 31,
   "id": "036d9d48",
   "metadata": {},
   "outputs": [
    {
     "data": {
      "text/plain": [
       "27"
      ]
     },
     "execution_count": 31,
     "metadata": {},
     "output_type": "execute_result"
    }
   ],
   "source": [
    "# Count the missing values in Dirigible column.\n",
    "crashesDataframe.Type.isnull().sum()"
   ]
  },
  {
   "cell_type": "code",
   "execution_count": 32,
   "id": "f6475fd5",
   "metadata": {},
   "outputs": [
    {
     "data": {
      "text/plain": [
       "(5268, 14)"
      ]
     },
     "execution_count": 32,
     "metadata": {},
     "output_type": "execute_result"
    }
   ],
   "source": [
    "# Shape of DataFrame\n",
    "crashesDataframe.shape"
   ]
  },
  {
   "cell_type": "code",
   "execution_count": 33,
   "id": "ef0e4a1d",
   "metadata": {},
   "outputs": [
    {
     "data": {
      "text/plain": [
       "0.5125284738041003"
      ]
     },
     "execution_count": 33,
     "metadata": {},
     "output_type": "execute_result"
    }
   ],
   "source": [
    "# Calculate the percentage of missing values in Dirigible column.\n",
    "float(100.0*27/5268)"
   ]
  },
  {
   "cell_type": "markdown",
   "id": "84961811",
   "metadata": {},
   "source": [
    "### Drop the records with Dirigible missing"
   ]
  },
  {
   "cell_type": "code",
   "execution_count": 9,
   "id": "a6691ca0",
   "metadata": {},
   "outputs": [
    {
     "data": {
      "text/plain": [
       "(5239, 14)"
      ]
     },
     "execution_count": 9,
     "metadata": {},
     "output_type": "execute_result"
    }
   ],
   "source": [
    "#drop the records with Dirigible missing in df and copy in df1 dataframe.\n",
    "df1= df[-df.Dirigible.isnull()].copy()\n",
    "df1.shape"
   ]
  },
  {
   "cell_type": "code",
   "execution_count": 10,
   "id": "b56227f3",
   "metadata": {},
   "outputs": [
    {
     "data": {
      "text/plain": [
       "2"
      ]
     },
     "execution_count": 10,
     "metadata": {},
     "output_type": "execute_result"
    }
   ],
   "source": [
    "# Dimensions of DataFrame\n",
    "df1.ndim"
   ]
  },
  {
   "cell_type": "code",
   "execution_count": 11,
   "id": "6187c10d",
   "metadata": {},
   "outputs": [
    {
     "name": "stderr",
     "output_type": "stream",
     "text": [
      "C:\\Users\\user\\AppData\\Local\\Temp\\ipykernel_2084\\3208839689.py:2: FutureWarning: Dropping of nuisance columns in DataFrame reductions (with 'numeric_only=None') is deprecated; in a future version this will raise TypeError.  Select only valid columns before calling the reduction.\n",
      "  df1.mean()\n"
     ]
    },
    {
     "data": {
      "text/plain": [
       "1        2642.415919\n",
       "5.0        27.630197\n",
       "5.0.1      20.107095\n",
       "0.0         1.603181\n",
       "dtype: float64"
      ]
     },
     "execution_count": 11,
     "metadata": {},
     "output_type": "execute_result"
    }
   ],
   "source": [
    "# To find Central location of data from df1\n",
    "df1.mean()"
   ]
  },
  {
   "cell_type": "code",
   "execution_count": 12,
   "id": "b06af116",
   "metadata": {},
   "outputs": [
    {
     "name": "stderr",
     "output_type": "stream",
     "text": [
      "C:\\Users\\user\\AppData\\Local\\Temp\\ipykernel_2084\\3370463481.py:2: FutureWarning: Dropping of nuisance columns in DataFrame reductions (with 'numeric_only=None') is deprecated; in a future version this will raise TypeError.  Select only valid columns before calling the reduction.\n",
      "  df1.median()\n"
     ]
    },
    {
     "data": {
      "text/plain": [
       "1        2645.0\n",
       "5.0        13.0\n",
       "5.0.1       9.0\n",
       "0.0         0.0\n",
       "dtype: float64"
      ]
     },
     "execution_count": 12,
     "metadata": {},
     "output_type": "execute_result"
    }
   ],
   "source": [
    "# To find median value of a data set\n",
    "df1.median()"
   ]
  },
  {
   "cell_type": "code",
   "execution_count": 13,
   "id": "2b02a4de",
   "metadata": {},
   "outputs": [
    {
     "data": {
      "text/html": [
       "<div>\n",
       "<style scoped>\n",
       "    .dataframe tbody tr th:only-of-type {\n",
       "        vertical-align: middle;\n",
       "    }\n",
       "\n",
       "    .dataframe tbody tr th {\n",
       "        vertical-align: top;\n",
       "    }\n",
       "\n",
       "    .dataframe thead th {\n",
       "        text-align: right;\n",
       "    }\n",
       "</style>\n",
       "<table border=\"1\" class=\"dataframe\">\n",
       "  <thead>\n",
       "    <tr style=\"text-align: right;\">\n",
       "      <th></th>\n",
       "      <th>1</th>\n",
       "      <th>07/12/1912</th>\n",
       "      <th>06:30</th>\n",
       "      <th>AtlantiCity, New Jersey</th>\n",
       "      <th>Military - U.S. Navy</th>\n",
       "      <th>Unnamed: 5</th>\n",
       "      <th>Test flight</th>\n",
       "      <th>Dirigible</th>\n",
       "      <th>Unnamed: 8</th>\n",
       "      <th>Unnamed: 9</th>\n",
       "      <th>5.0</th>\n",
       "      <th>5.0.1</th>\n",
       "      <th>0.0</th>\n",
       "      <th>First U.S. dirigible Akron exploded just offshore at an altitude of 1,000 ft. during a test flight.</th>\n",
       "    </tr>\n",
       "  </thead>\n",
       "  <tbody>\n",
       "    <tr>\n",
       "      <th>0</th>\n",
       "      <td>2</td>\n",
       "      <td>02/28/1973</td>\n",
       "      <td>15:00</td>\n",
       "      <td>Sao Paulo, Brazil</td>\n",
       "      <td>Aeroflot</td>\n",
       "      <td>-</td>\n",
       "      <td>Training</td>\n",
       "      <td>Douglas DC-3</td>\n",
       "      <td>49</td>\n",
       "      <td>178</td>\n",
       "      <td>2.0</td>\n",
       "      <td>2.0</td>\n",
       "      <td>0.0</td>\n",
       "      <td>Crashed during takeoff.</td>\n",
       "    </tr>\n",
       "    <tr>\n",
       "      <th>1</th>\n",
       "      <td>3</td>\n",
       "      <td>06/18/1972</td>\n",
       "      <td>NaN</td>\n",
       "      <td>NaN</td>\n",
       "      <td>Military - U.S. Air Force</td>\n",
       "      <td>NaN</td>\n",
       "      <td>NaN</td>\n",
       "      <td>NaN</td>\n",
       "      <td>NaN</td>\n",
       "      <td>NaN</td>\n",
       "      <td>NaN</td>\n",
       "      <td>NaN</td>\n",
       "      <td>NaN</td>\n",
       "      <td>NaN</td>\n",
       "    </tr>\n",
       "    <tr>\n",
       "      <th>2</th>\n",
       "      <td>4</td>\n",
       "      <td>08/27/1992</td>\n",
       "      <td>NaN</td>\n",
       "      <td>NaN</td>\n",
       "      <td>NaN</td>\n",
       "      <td>NaN</td>\n",
       "      <td>NaN</td>\n",
       "      <td>NaN</td>\n",
       "      <td>NaN</td>\n",
       "      <td>NaN</td>\n",
       "      <td>NaN</td>\n",
       "      <td>NaN</td>\n",
       "      <td>NaN</td>\n",
       "      <td>NaN</td>\n",
       "    </tr>\n",
       "    <tr>\n",
       "      <th>3</th>\n",
       "      <td>5</td>\n",
       "      <td>08/28/1976</td>\n",
       "      <td>NaN</td>\n",
       "      <td>NaN</td>\n",
       "      <td>NaN</td>\n",
       "      <td>NaN</td>\n",
       "      <td>NaN</td>\n",
       "      <td>NaN</td>\n",
       "      <td>NaN</td>\n",
       "      <td>NaN</td>\n",
       "      <td>NaN</td>\n",
       "      <td>NaN</td>\n",
       "      <td>NaN</td>\n",
       "      <td>NaN</td>\n",
       "    </tr>\n",
       "    <tr>\n",
       "      <th>4</th>\n",
       "      <td>6</td>\n",
       "      <td>08/31/1988</td>\n",
       "      <td>NaN</td>\n",
       "      <td>NaN</td>\n",
       "      <td>NaN</td>\n",
       "      <td>NaN</td>\n",
       "      <td>NaN</td>\n",
       "      <td>NaN</td>\n",
       "      <td>NaN</td>\n",
       "      <td>NaN</td>\n",
       "      <td>NaN</td>\n",
       "      <td>NaN</td>\n",
       "      <td>NaN</td>\n",
       "      <td>NaN</td>\n",
       "    </tr>\n",
       "    <tr>\n",
       "      <th>...</th>\n",
       "      <td>...</td>\n",
       "      <td>...</td>\n",
       "      <td>...</td>\n",
       "      <td>...</td>\n",
       "      <td>...</td>\n",
       "      <td>...</td>\n",
       "      <td>...</td>\n",
       "      <td>...</td>\n",
       "      <td>...</td>\n",
       "      <td>...</td>\n",
       "      <td>...</td>\n",
       "      <td>...</td>\n",
       "      <td>...</td>\n",
       "      <td>...</td>\n",
       "    </tr>\n",
       "    <tr>\n",
       "      <th>5234</th>\n",
       "      <td>5263</td>\n",
       "      <td>NaN</td>\n",
       "      <td>NaN</td>\n",
       "      <td>NaN</td>\n",
       "      <td>NaN</td>\n",
       "      <td>NaN</td>\n",
       "      <td>NaN</td>\n",
       "      <td>NaN</td>\n",
       "      <td>NaN</td>\n",
       "      <td>NaN</td>\n",
       "      <td>NaN</td>\n",
       "      <td>NaN</td>\n",
       "      <td>NaN</td>\n",
       "      <td>NaN</td>\n",
       "    </tr>\n",
       "    <tr>\n",
       "      <th>5235</th>\n",
       "      <td>5264</td>\n",
       "      <td>NaN</td>\n",
       "      <td>NaN</td>\n",
       "      <td>NaN</td>\n",
       "      <td>NaN</td>\n",
       "      <td>NaN</td>\n",
       "      <td>NaN</td>\n",
       "      <td>NaN</td>\n",
       "      <td>NaN</td>\n",
       "      <td>NaN</td>\n",
       "      <td>NaN</td>\n",
       "      <td>NaN</td>\n",
       "      <td>NaN</td>\n",
       "      <td>NaN</td>\n",
       "    </tr>\n",
       "    <tr>\n",
       "      <th>5236</th>\n",
       "      <td>5265</td>\n",
       "      <td>NaN</td>\n",
       "      <td>NaN</td>\n",
       "      <td>NaN</td>\n",
       "      <td>NaN</td>\n",
       "      <td>NaN</td>\n",
       "      <td>NaN</td>\n",
       "      <td>NaN</td>\n",
       "      <td>NaN</td>\n",
       "      <td>NaN</td>\n",
       "      <td>NaN</td>\n",
       "      <td>NaN</td>\n",
       "      <td>NaN</td>\n",
       "      <td>NaN</td>\n",
       "    </tr>\n",
       "    <tr>\n",
       "      <th>5237</th>\n",
       "      <td>5266</td>\n",
       "      <td>NaN</td>\n",
       "      <td>NaN</td>\n",
       "      <td>NaN</td>\n",
       "      <td>NaN</td>\n",
       "      <td>NaN</td>\n",
       "      <td>NaN</td>\n",
       "      <td>NaN</td>\n",
       "      <td>NaN</td>\n",
       "      <td>NaN</td>\n",
       "      <td>NaN</td>\n",
       "      <td>NaN</td>\n",
       "      <td>NaN</td>\n",
       "      <td>NaN</td>\n",
       "    </tr>\n",
       "    <tr>\n",
       "      <th>5238</th>\n",
       "      <td>5267</td>\n",
       "      <td>NaN</td>\n",
       "      <td>NaN</td>\n",
       "      <td>NaN</td>\n",
       "      <td>NaN</td>\n",
       "      <td>NaN</td>\n",
       "      <td>NaN</td>\n",
       "      <td>NaN</td>\n",
       "      <td>NaN</td>\n",
       "      <td>NaN</td>\n",
       "      <td>NaN</td>\n",
       "      <td>NaN</td>\n",
       "      <td>NaN</td>\n",
       "      <td>NaN</td>\n",
       "    </tr>\n",
       "  </tbody>\n",
       "</table>\n",
       "<p>5239 rows × 14 columns</p>\n",
       "</div>"
      ],
      "text/plain": [
       "         1  07/12/1912  06:30 AtlantiCity, New Jersey  \\\n",
       "0        2  02/28/1973  15:00       Sao Paulo, Brazil   \n",
       "1        3  06/18/1972    NaN                     NaN   \n",
       "2        4  08/27/1992    NaN                     NaN   \n",
       "3        5  08/28/1976    NaN                     NaN   \n",
       "4        6  08/31/1988    NaN                     NaN   \n",
       "...    ...         ...    ...                     ...   \n",
       "5234  5263         NaN    NaN                     NaN   \n",
       "5235  5264         NaN    NaN                     NaN   \n",
       "5236  5265         NaN    NaN                     NaN   \n",
       "5237  5266         NaN    NaN                     NaN   \n",
       "5238  5267         NaN    NaN                     NaN   \n",
       "\n",
       "           Military - U.S. Navy Unnamed: 5 Test flight     Dirigible  \\\n",
       "0                      Aeroflot          -    Training  Douglas DC-3   \n",
       "1     Military - U.S. Air Force        NaN         NaN           NaN   \n",
       "2                           NaN        NaN         NaN           NaN   \n",
       "3                           NaN        NaN         NaN           NaN   \n",
       "4                           NaN        NaN         NaN           NaN   \n",
       "...                         ...        ...         ...           ...   \n",
       "5234                        NaN        NaN         NaN           NaN   \n",
       "5235                        NaN        NaN         NaN           NaN   \n",
       "5236                        NaN        NaN         NaN           NaN   \n",
       "5237                        NaN        NaN         NaN           NaN   \n",
       "5238                        NaN        NaN         NaN           NaN   \n",
       "\n",
       "     Unnamed: 8 Unnamed: 9  5.0  5.0.1  0.0  \\\n",
       "0            49        178  2.0    2.0  0.0   \n",
       "1           NaN        NaN  NaN    NaN  NaN   \n",
       "2           NaN        NaN  NaN    NaN  NaN   \n",
       "3           NaN        NaN  NaN    NaN  NaN   \n",
       "4           NaN        NaN  NaN    NaN  NaN   \n",
       "...         ...        ...  ...    ...  ...   \n",
       "5234        NaN        NaN  NaN    NaN  NaN   \n",
       "5235        NaN        NaN  NaN    NaN  NaN   \n",
       "5236        NaN        NaN  NaN    NaN  NaN   \n",
       "5237        NaN        NaN  NaN    NaN  NaN   \n",
       "5238        NaN        NaN  NaN    NaN  NaN   \n",
       "\n",
       "     First U.S. dirigible Akron exploded just offshore at an altitude of 1,000 ft. during a test flight.  \n",
       "0                               Crashed during takeoff.                                                   \n",
       "1                                                   NaN                                                   \n",
       "2                                                   NaN                                                   \n",
       "3                                                   NaN                                                   \n",
       "4                                                   NaN                                                   \n",
       "...                                                 ...                                                   \n",
       "5234                                                NaN                                                   \n",
       "5235                                                NaN                                                   \n",
       "5236                                                NaN                                                   \n",
       "5237                                                NaN                                                   \n",
       "5238                                                NaN                                                   \n",
       "\n",
       "[5239 rows x 14 columns]"
      ]
     },
     "execution_count": 13,
     "metadata": {},
     "output_type": "execute_result"
    }
   ],
   "source": [
    "# To find values that appears most often\n",
    "df1.mode()"
   ]
  },
  {
   "cell_type": "code",
   "execution_count": 14,
   "id": "065f22e8",
   "metadata": {},
   "outputs": [
    {
     "name": "stderr",
     "output_type": "stream",
     "text": [
      "C:\\Users\\user\\AppData\\Local\\Temp\\ipykernel_2084\\1813207459.py:2: FutureWarning: Dropping of nuisance columns in DataFrame reductions (with 'numeric_only=None') is deprecated; in a future version this will raise TypeError.  Select only valid columns before calling the reduction.\n",
      "  df1.std()\n"
     ]
    },
    {
     "data": {
      "text/plain": [
       "1        1517.008460\n",
       "5.0        43.160682\n",
       "5.0.1      33.262191\n",
       "0.0        54.122898\n",
       "dtype: float64"
      ]
     },
     "execution_count": 14,
     "metadata": {},
     "output_type": "execute_result"
    }
   ],
   "source": [
    "# Standard deviation\n",
    "df1.std()"
   ]
  },
  {
   "cell_type": "code",
   "execution_count": 15,
   "id": "39d73c83",
   "metadata": {},
   "outputs": [
    {
     "name": "stderr",
     "output_type": "stream",
     "text": [
      "C:\\Users\\user\\AppData\\Local\\Temp\\ipykernel_2084\\2871271835.py:2: FutureWarning: Dropping of nuisance columns in DataFrame reductions (with 'numeric_only=None') is deprecated; in a future version this will raise TypeError.  Select only valid columns before calling the reduction.\n",
      "  df1.var()\n"
     ]
    },
    {
     "data": {
      "text/plain": [
       "1        2.301315e+06\n",
       "5.0      1.862844e+03\n",
       "5.0.1    1.106373e+03\n",
       "0.0      2.929288e+03\n",
       "dtype: float64"
      ]
     },
     "execution_count": 15,
     "metadata": {},
     "output_type": "execute_result"
    }
   ],
   "source": [
    "# Variance\n",
    "df1.var()"
   ]
  },
  {
   "cell_type": "code",
   "execution_count": 16,
   "id": "f54f9e9a",
   "metadata": {},
   "outputs": [
    {
     "data": {
      "text/html": [
       "<div>\n",
       "<style scoped>\n",
       "    .dataframe tbody tr th:only-of-type {\n",
       "        vertical-align: middle;\n",
       "    }\n",
       "\n",
       "    .dataframe tbody tr th {\n",
       "        vertical-align: top;\n",
       "    }\n",
       "\n",
       "    .dataframe thead th {\n",
       "        text-align: right;\n",
       "    }\n",
       "</style>\n",
       "<table border=\"1\" class=\"dataframe\">\n",
       "  <thead>\n",
       "    <tr style=\"text-align: right;\">\n",
       "      <th></th>\n",
       "      <th>1</th>\n",
       "      <th>5.0</th>\n",
       "      <th>5.0.1</th>\n",
       "      <th>0.0</th>\n",
       "    </tr>\n",
       "  </thead>\n",
       "  <tbody>\n",
       "    <tr>\n",
       "      <th>1</th>\n",
       "      <td>1.000000</td>\n",
       "      <td>0.145249</td>\n",
       "      <td>0.096530</td>\n",
       "      <td>0.031414</td>\n",
       "    </tr>\n",
       "    <tr>\n",
       "      <th>5.0</th>\n",
       "      <td>0.145249</td>\n",
       "      <td>1.000000</td>\n",
       "      <td>0.756913</td>\n",
       "      <td>0.023362</td>\n",
       "    </tr>\n",
       "    <tr>\n",
       "      <th>5.0.1</th>\n",
       "      <td>0.096530</td>\n",
       "      <td>0.756913</td>\n",
       "      <td>1.000000</td>\n",
       "      <td>0.035307</td>\n",
       "    </tr>\n",
       "    <tr>\n",
       "      <th>0.0</th>\n",
       "      <td>0.031414</td>\n",
       "      <td>0.023362</td>\n",
       "      <td>0.035307</td>\n",
       "      <td>1.000000</td>\n",
       "    </tr>\n",
       "  </tbody>\n",
       "</table>\n",
       "</div>"
      ],
      "text/plain": [
       "              1       5.0     5.0.1       0.0\n",
       "1      1.000000  0.145249  0.096530  0.031414\n",
       "5.0    0.145249  1.000000  0.756913  0.023362\n",
       "5.0.1  0.096530  0.756913  1.000000  0.035307\n",
       "0.0    0.031414  0.023362  0.035307  1.000000"
      ]
     },
     "execution_count": 16,
     "metadata": {},
     "output_type": "execute_result"
    }
   ],
   "source": [
    "# Correlation\n",
    "corr = df1.corr()\n",
    "corr"
   ]
  },
  {
   "cell_type": "markdown",
   "id": "8626a823",
   "metadata": {},
   "source": [
    "### To calculate the correlation between the numeric variables we can use heatmap to find correlation among them"
   ]
  },
  {
   "cell_type": "code",
   "execution_count": 17,
   "id": "4ba0b4d4",
   "metadata": {},
   "outputs": [
    {
     "data": {
      "image/png": "[encoded data removed]",
      "text/plain": [
       "<Figure size 2088x576 with 2 Axes>"
      ]
     },
     "metadata": {
      "needs_background": "light"
     },
     "output_type": "display_data"
    }
   ],
   "source": [
    "plt.subplots(figsize=(29,8))\n",
    "corr = df1.corr()\n",
    "sns.heatmap(corr,annot=True,\n",
    "           xticklabels = corr.columns.values,\n",
    "           yticklabels = corr.columns.values);\n",
    "plt.show()"
   ]
  },
  {
   "cell_type": "code",
   "execution_count": 18,
   "id": "e6ebdd5a",
   "metadata": {},
   "outputs": [
    {
     "name": "stderr",
     "output_type": "stream",
     "text": [
      "C:\\Users\\user\\AppData\\Local\\Temp\\ipykernel_2084\\336109200.py:3: FutureWarning: Dropping of nuisance columns in DataFrame reductions (with 'numeric_only=None') is deprecated; in a future version this will raise TypeError.  Select only valid columns before calling the reduction.\n",
      "  df1.skew()\n"
     ]
    },
    {
     "data": {
      "text/plain": [
       "1        -0.004891\n",
       "5.0       4.240411\n",
       "5.0.1     4.943625\n",
       "0.0      50.233519\n",
       "dtype: float64"
      ]
     },
     "execution_count": 18,
     "metadata": {},
     "output_type": "execute_result"
    }
   ],
   "source": [
    "# The skew () method calculates the skew for each column\n",
    "# The skew () method searches column-wise and returns the skew of each row\n",
    "df1.skew()"
   ]
  },
  {
   "cell_type": "code",
   "execution_count": 19,
   "id": "6d064d8e",
   "metadata": {},
   "outputs": [
    {
     "data": {
      "text/html": [
       "<div>\n",
       "<style scoped>\n",
       "    .dataframe tbody tr th:only-of-type {\n",
       "        vertical-align: middle;\n",
       "    }\n",
       "\n",
       "    .dataframe tbody tr th {\n",
       "        vertical-align: top;\n",
       "    }\n",
       "\n",
       "    .dataframe thead th {\n",
       "        text-align: right;\n",
       "    }\n",
       "</style>\n",
       "<table border=\"1\" class=\"dataframe\">\n",
       "  <thead>\n",
       "    <tr style=\"text-align: right;\">\n",
       "      <th></th>\n",
       "      <th>1</th>\n",
       "      <th>5.0</th>\n",
       "      <th>5.0.1</th>\n",
       "      <th>0.0</th>\n",
       "    </tr>\n",
       "  </thead>\n",
       "  <tbody>\n",
       "    <tr>\n",
       "      <th>count</th>\n",
       "      <td>5239.000000</td>\n",
       "      <td>5219.000000</td>\n",
       "      <td>5229.000000</td>\n",
       "      <td>5219.000000</td>\n",
       "    </tr>\n",
       "    <tr>\n",
       "      <th>mean</th>\n",
       "      <td>2642.415919</td>\n",
       "      <td>27.630197</td>\n",
       "      <td>20.107095</td>\n",
       "      <td>1.603181</td>\n",
       "    </tr>\n",
       "    <tr>\n",
       "      <th>std</th>\n",
       "      <td>1517.008460</td>\n",
       "      <td>43.160682</td>\n",
       "      <td>33.262191</td>\n",
       "      <td>54.122898</td>\n",
       "    </tr>\n",
       "    <tr>\n",
       "      <th>min</th>\n",
       "      <td>2.000000</td>\n",
       "      <td>0.000000</td>\n",
       "      <td>0.000000</td>\n",
       "      <td>0.000000</td>\n",
       "    </tr>\n",
       "    <tr>\n",
       "      <th>25%</th>\n",
       "      <td>1332.500000</td>\n",
       "      <td>5.000000</td>\n",
       "      <td>3.000000</td>\n",
       "      <td>0.000000</td>\n",
       "    </tr>\n",
       "    <tr>\n",
       "      <th>50%</th>\n",
       "      <td>2645.000000</td>\n",
       "      <td>13.000000</td>\n",
       "      <td>9.000000</td>\n",
       "      <td>0.000000</td>\n",
       "    </tr>\n",
       "    <tr>\n",
       "      <th>75%</th>\n",
       "      <td>3954.500000</td>\n",
       "      <td>30.000000</td>\n",
       "      <td>23.000000</td>\n",
       "      <td>0.000000</td>\n",
       "    </tr>\n",
       "    <tr>\n",
       "      <th>max</th>\n",
       "      <td>5267.000000</td>\n",
       "      <td>644.000000</td>\n",
       "      <td>583.000000</td>\n",
       "      <td>2750.000000</td>\n",
       "    </tr>\n",
       "  </tbody>\n",
       "</table>\n",
       "</div>"
      ],
      "text/plain": [
       "                 1          5.0        5.0.1          0.0\n",
       "count  5239.000000  5219.000000  5229.000000  5219.000000\n",
       "mean   2642.415919    27.630197    20.107095     1.603181\n",
       "std    1517.008460    43.160682    33.262191    54.122898\n",
       "min       2.000000     0.000000     0.000000     0.000000\n",
       "25%    1332.500000     5.000000     3.000000     0.000000\n",
       "50%    2645.000000    13.000000     9.000000     0.000000\n",
       "75%    3954.500000    30.000000    23.000000     0.000000\n",
       "max    5267.000000   644.000000   583.000000  2750.000000"
      ]
     },
     "execution_count": 19,
     "metadata": {},
     "output_type": "execute_result"
    }
   ],
   "source": [
    "# describe() is used to calculate some statistical data like percentile,mean,standard deviation,count.\n",
    "df1.describe()"
   ]
  },
  {
   "cell_type": "code",
   "execution_count": 20,
   "id": "498a4f9b",
   "metadata": {},
   "outputs": [
    {
     "data": {
      "text/plain": [
       "count             5239\n",
       "unique            2444\n",
       "top       Douglas DC-3\n",
       "freq               334\n",
       "Name: Dirigible, dtype: object"
      ]
     },
     "execution_count": 20,
     "metadata": {},
     "output_type": "execute_result"
    }
   ],
   "source": [
    "# Describe the Dirigible column of df1\n",
    "df1.Dirigible.describe()"
   ]
  },
  {
   "cell_type": "markdown",
   "id": "6f0e9006",
   "metadata": {},
   "source": [
    "### -1 indicates the missing values. Missing value does not always be present as null. How to handle it:\n",
    "### Objective is:\n",
    "### you should ignore the missing values in the calculations\n",
    "### simply make it missing - replace -1 with NaN.\n",
    "### all summary statistics- mean, median etc. we will ignore the missing values of pdays"
   ]
  },
  {
   "cell_type": "code",
   "execution_count": 21,
   "id": "f8d595a2",
   "metadata": {},
   "outputs": [
    {
     "data": {
      "text/plain": [
       "count             5239\n",
       "unique            2444\n",
       "top       Douglas DC-3\n",
       "freq               334\n",
       "Name: Dirigible, dtype: object"
      ]
     },
     "execution_count": 21,
     "metadata": {},
     "output_type": "execute_result"
    }
   ],
   "source": [
    "# describe the Dirigible column with considering the -1 values\n",
    "df1.loc[df1.index<0,\"Dirigible\"] = np.NaN\n",
    "df1.Dirigible.describe()"
   ]
  },
  {
   "cell_type": "code",
   "execution_count": 22,
   "id": "93b8a9e3",
   "metadata": {},
   "outputs": [
    {
     "data": {
      "text/plain": [
       "count             5239\n",
       "unique            2444\n",
       "top       Douglas DC-3\n",
       "freq               334\n",
       "Name: Dirigible, dtype: object"
      ]
     },
     "execution_count": 22,
     "metadata": {},
     "output_type": "execute_result"
    }
   ],
   "source": [
    "# describe the Dirigible variable in df1\n",
    "df1.Dirigible.describe()"
   ]
  },
  {
   "cell_type": "code",
   "execution_count": 23,
   "id": "5bd1b56f",
   "metadata": {},
   "outputs": [
    {
     "name": "stdout",
     "output_type": "stream",
     "text": [
      "The Airplane Crash Dataset contains 5,266 rows & 14 columns\n"
     ]
    }
   ],
   "source": [
    "# check the no. of columns & rows\n",
    "print('The Airplane Crash Dataset contains {:,d} rows & {} columns'.format(df.shape[0], df.shape[1]))"
   ]
  },
  {
   "cell_type": "code",
   "execution_count": 24,
   "id": "a1afb9b2",
   "metadata": {},
   "outputs": [
    {
     "data": {
      "text/html": [
       "<style type=\"text/css\">\n",
       "#T_f0892_row0_col0, #T_f0892_row0_col1, #T_f0892_row0_col2, #T_f0892_row0_col3, #T_f0892_row7_col0 {\n",
       "  background-color: #ffd4ac;\n",
       "  color: #000000;\n",
       "}\n",
       "#T_f0892_row1_col0, #T_f0892_row5_col0 {\n",
       "  background-color: #1f1e1e;\n",
       "  color: #f1f1f1;\n",
       "}\n",
       "#T_f0892_row1_col1, #T_f0892_row2_col2, #T_f0892_row6_col1, #T_f0892_row6_col2 {\n",
       "  background-color: #bae5da;\n",
       "  color: #000000;\n",
       "}\n",
       "#T_f0892_row1_col2, #T_f0892_row1_col3, #T_f0892_row3_col0, #T_f0892_row3_col1, #T_f0892_row3_col2, #T_f0892_row3_col3, #T_f0892_row4_col1, #T_f0892_row4_col2, #T_f0892_row4_col3, #T_f0892_row5_col1, #T_f0892_row5_col2, #T_f0892_row5_col3, #T_f0892_row6_col3 {\n",
       "  background-color: #bde7db;\n",
       "  color: #000000;\n",
       "}\n",
       "#T_f0892_row2_col0 {\n",
       "  background-color: #4954b0;\n",
       "  color: #f1f1f1;\n",
       "}\n",
       "#T_f0892_row2_col1, #T_f0892_row2_col3 {\n",
       "  background-color: #b7e3d9;\n",
       "  color: #000000;\n",
       "}\n",
       "#T_f0892_row4_col0 {\n",
       "  background-color: #4167c7;\n",
       "  color: #f1f1f1;\n",
       "}\n",
       "#T_f0892_row6_col0 {\n",
       "  background-color: #b93540;\n",
       "  color: #f1f1f1;\n",
       "}\n",
       "#T_f0892_row7_col1 {\n",
       "  background-color: #63adcd;\n",
       "  color: #f1f1f1;\n",
       "}\n",
       "#T_f0892_row7_col2 {\n",
       "  background-color: #6bb2cd;\n",
       "  color: #f1f1f1;\n",
       "}\n",
       "#T_f0892_row7_col3 {\n",
       "  background-color: #261e1f;\n",
       "  color: #f1f1f1;\n",
       "}\n",
       "</style>\n",
       "<table id=\"T_f0892\">\n",
       "  <thead>\n",
       "    <tr>\n",
       "      <th class=\"blank level0\" >&nbsp;</th>\n",
       "      <th id=\"T_f0892_level0_col0\" class=\"col_heading level0 col0\" >1</th>\n",
       "      <th id=\"T_f0892_level0_col1\" class=\"col_heading level0 col1\" >5.0</th>\n",
       "      <th id=\"T_f0892_level0_col2\" class=\"col_heading level0 col2\" >5.0.1</th>\n",
       "      <th id=\"T_f0892_level0_col3\" class=\"col_heading level0 col3\" >0.0</th>\n",
       "    </tr>\n",
       "  </thead>\n",
       "  <tbody>\n",
       "    <tr>\n",
       "      <th id=\"T_f0892_level0_row0\" class=\"row_heading level0 row0\" >count</th>\n",
       "      <td id=\"T_f0892_row0_col0\" class=\"data row0 col0\" >5266.000000</td>\n",
       "      <td id=\"T_f0892_row0_col1\" class=\"data row0 col1\" >5244.000000</td>\n",
       "      <td id=\"T_f0892_row0_col2\" class=\"data row0 col2\" >5254.000000</td>\n",
       "      <td id=\"T_f0892_row0_col3\" class=\"data row0 col3\" >5244.000000</td>\n",
       "    </tr>\n",
       "    <tr>\n",
       "      <th id=\"T_f0892_level0_row1\" class=\"row_heading level0 row1\" >mean</th>\n",
       "      <td id=\"T_f0892_row1_col0\" class=\"data row1 col0\" >2634.500000</td>\n",
       "      <td id=\"T_f0892_row1_col1\" class=\"data row1 col1\" >27.563692</td>\n",
       "      <td id=\"T_f0892_row1_col2\" class=\"data row1 col2\" >20.074800</td>\n",
       "      <td id=\"T_f0892_row1_col3\" class=\"data row1 col3\" >1.609458</td>\n",
       "    </tr>\n",
       "    <tr>\n",
       "      <th id=\"T_f0892_level0_row2\" class=\"row_heading level0 row2\" >std</th>\n",
       "      <td id=\"T_f0892_row2_col0\" class=\"data row2 col0\" >1520.307589</td>\n",
       "      <td id=\"T_f0892_row2_col1\" class=\"data row2 col1\" >43.082354</td>\n",
       "      <td id=\"T_f0892_row2_col2\" class=\"data row2 col2\" >33.204578</td>\n",
       "      <td id=\"T_f0892_row2_col3\" class=\"data row2 col3\" >53.998114</td>\n",
       "    </tr>\n",
       "    <tr>\n",
       "      <th id=\"T_f0892_level0_row3\" class=\"row_heading level0 row3\" >min</th>\n",
       "      <td id=\"T_f0892_row3_col0\" class=\"data row3 col0\" >2.000000</td>\n",
       "      <td id=\"T_f0892_row3_col1\" class=\"data row3 col1\" >0.000000</td>\n",
       "      <td id=\"T_f0892_row3_col2\" class=\"data row3 col2\" >0.000000</td>\n",
       "      <td id=\"T_f0892_row3_col3\" class=\"data row3 col3\" >0.000000</td>\n",
       "    </tr>\n",
       "    <tr>\n",
       "      <th id=\"T_f0892_level0_row4\" class=\"row_heading level0 row4\" >25%</th>\n",
       "      <td id=\"T_f0892_row4_col0\" class=\"data row4 col0\" >1318.250000</td>\n",
       "      <td id=\"T_f0892_row4_col1\" class=\"data row4 col1\" >5.000000</td>\n",
       "      <td id=\"T_f0892_row4_col2\" class=\"data row4 col2\" >3.000000</td>\n",
       "      <td id=\"T_f0892_row4_col3\" class=\"data row4 col3\" >0.000000</td>\n",
       "    </tr>\n",
       "    <tr>\n",
       "      <th id=\"T_f0892_level0_row5\" class=\"row_heading level0 row5\" >50%</th>\n",
       "      <td id=\"T_f0892_row5_col0\" class=\"data row5 col0\" >2634.500000</td>\n",
       "      <td id=\"T_f0892_row5_col1\" class=\"data row5 col1\" >13.000000</td>\n",
       "      <td id=\"T_f0892_row5_col2\" class=\"data row5 col2\" >9.000000</td>\n",
       "      <td id=\"T_f0892_row5_col3\" class=\"data row5 col3\" >0.000000</td>\n",
       "    </tr>\n",
       "    <tr>\n",
       "      <th id=\"T_f0892_level0_row6\" class=\"row_heading level0 row6\" >75%</th>\n",
       "      <td id=\"T_f0892_row6_col0\" class=\"data row6 col0\" >3950.750000</td>\n",
       "      <td id=\"T_f0892_row6_col1\" class=\"data row6 col1\" >30.000000</td>\n",
       "      <td id=\"T_f0892_row6_col2\" class=\"data row6 col2\" >23.000000</td>\n",
       "      <td id=\"T_f0892_row6_col3\" class=\"data row6 col3\" >0.000000</td>\n",
       "    </tr>\n",
       "    <tr>\n",
       "      <th id=\"T_f0892_level0_row7\" class=\"row_heading level0 row7\" >max</th>\n",
       "      <td id=\"T_f0892_row7_col0\" class=\"data row7 col0\" >5267.000000</td>\n",
       "      <td id=\"T_f0892_row7_col1\" class=\"data row7 col1\" >644.000000</td>\n",
       "      <td id=\"T_f0892_row7_col2\" class=\"data row7 col2\" >583.000000</td>\n",
       "      <td id=\"T_f0892_row7_col3\" class=\"data row7 col3\" >2750.000000</td>\n",
       "    </tr>\n",
       "  </tbody>\n",
       "</table>\n"
      ],
      "text/plain": [
       "<pandas.io.formats.style.Styler at 0x1f8d02639d0>"
      ]
     },
     "execution_count": 24,
     "metadata": {},
     "output_type": "execute_result"
    }
   ],
   "source": [
    "df.describe().style.background_gradient(cmap='icefire')"
   ]
  },
  {
   "cell_type": "code",
   "execution_count": 36,
   "id": "c769dffe",
   "metadata": {},
   "outputs": [
    {
     "data": {
      "text/plain": [
       "array([[<AxesSubplot:title={'center':'index'}>,\n",
       "        <AxesSubplot:title={'center':'Date'}>],\n",
       "       [<AxesSubplot:title={'center':'Aboard'}>,\n",
       "        <AxesSubplot:title={'center':'Fatalities'}>],\n",
       "       [<AxesSubplot:title={'center':'Ground'}>, <AxesSubplot:>]],\n",
       "      dtype=object)"
      ]
     },
     "execution_count": 36,
     "metadata": {},
     "output_type": "execute_result"
    },
    {
     "data": {
      "image/png": "[encoded data removed]",
      "text/plain": [
       "<Figure size 432x288 with 6 Axes>"
      ]
     },
     "metadata": {
      "needs_background": "light"
     },
     "output_type": "display_data"
    }
   ],
   "source": [
    "crashesDataframe.hist(bins=10)"
   ]
  },
  {
   "cell_type": "code",
   "execution_count": null,
   "id": "abe41ac3",
   "metadata": {},
   "outputs": [],
   "source": []
  }
 ],
 "metadata": {
  "kernelspec": {
   "display_name": "Python 3 (ipykernel)",
   "language": "python",
   "name": "python3"
  },
  "language_info": {
   "codemirror_mode": {
    "name": "ipython",
    "version": 3
   },
   "file_extension": ".py",
   "mimetype": "text/x-python",
   "name": "python",
   "nbconvert_exporter": "python",
   "pygments_lexer": "ipython3",
   "version": "3.9.12"
  }
 },
 "nbformat": 4,
 "nbformat_minor": 5
}
